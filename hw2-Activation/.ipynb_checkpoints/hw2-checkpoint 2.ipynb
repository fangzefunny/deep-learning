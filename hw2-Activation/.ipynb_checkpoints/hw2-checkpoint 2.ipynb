{
 "cells": [
  {
   "cell_type": "markdown",
   "metadata": {},
   "source": [
    "## Homework 2"
   ]
  },
  {
   "cell_type": "markdown",
   "metadata": {},
   "source": [
    "### 1. In the class, we derived the closed‐form solution for solving the parameters of the linear regression with one output. In this problem, you will apply the same technique to derive the equations for learning the parameters of linear regression with two outputs $y \\in R^2$ and $y=(y_1,y_2)^{\\top}$ jointly. Given training data $D=\\{x[m],y[m]\\}, m=1,2,..,M$, derive the equations to learn the regression parameter matrix $W=[W_1, W_2]$, where $W_1=[w_1, w_{1,0}]^{\\top}$ and $W_2=[w_2, w_{2,0}]^{\\top}$ by minimizing the mean squared errors. "
   ]
  },
  {
   "cell_type": "markdown",
   "metadata": {},
   "source": [
    "Let's assume each mini batch $x[m]$ has N samples and F features, so $x[m] \\in R^{F \\times N}$, $W \\in R^{(F+1) \\times 2}$, $y \\in R^{2 \\times N}$\n",
    "\n",
    "The regression is: \n",
    "\n",
    "\\begin{align}\n",
    "\\hat{y}[m] &= W^{\\top} \\left[ \\begin{matrix} x[m]\\\\ 1 \\end{matrix} \\right] \\\\&= W^{\\top}X[m]\n",
    "\\end{align}\n",
    "\n",
    "The loss function is:\n",
    "\\begin{align}\n",
    "\\mathcal{L}(D;W) &= \\sum_{i=1}^M (y[m] - W^{\\top}X[m])^{\\top}(y[m] - W^{\\top}X[m]) \\\\&= \\sum_{i=1}^M (y[m])^{\\top}y[m] - (W^{\\top}X[m])^{\\top}y[m] - (y[m])^{\\top}W^{\\top}X[m] +  (W^{\\top}X[m]))^{\\top} W^{\\top}X[m]\n",
    "\\end{align}\n",
    "\n",
    "The gradient is:\n",
    "\\begin{align}\n",
    "\\mathcal{L}(D;W) &= \\sum_{i=1}^M (y[m] - W^{\\top}X[m])^{\\top}(y[m] - W^{\\top}X[m]) \n",
    "\\end{align}\n"
   ]
  },
  {
   "cell_type": "code",
   "execution_count": null,
   "metadata": {},
   "outputs": [],
   "source": []
  }
 ],
 "metadata": {
  "kernelspec": {
   "display_name": "Python 3",
   "language": "python",
   "name": "python3"
  },
  "language_info": {
   "codemirror_mode": {
    "name": "ipython",
    "version": 3
   },
   "file_extension": ".py",
   "mimetype": "text/x-python",
   "name": "python",
   "nbconvert_exporter": "python",
   "pygments_lexer": "ipython3",
   "version": "3.7.4"
  }
 },
 "nbformat": 4,
 "nbformat_minor": 4
}
