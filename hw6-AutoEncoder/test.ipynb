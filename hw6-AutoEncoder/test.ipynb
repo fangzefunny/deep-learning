{
 "cells": [
  {
   "cell_type": "code",
   "execution_count": 1,
   "metadata": {},
   "outputs": [],
   "source": [
    "import numpy as np "
   ]
  },
  {
   "cell_type": "code",
   "execution_count": 5,
   "metadata": {},
   "outputs": [],
   "source": [
    "a1 = np.array( [[.114, .572, .636, .28], [.134, .528, 1.634, .352],[.286, 1.63, 1.436, .246], [.48, .914, .52, .106]])"
   ]
  },
  {
   "cell_type": "code",
   "execution_count": 6,
   "metadata": {},
   "outputs": [],
   "source": [
    "a2 = np.array( [[.21, .602, .658, .77], [.626, 1.58, 2.62, .992],[.744, 2.664, 1.734, .626], [.972, .798, .43, .212]])"
   ]
  },
  {
   "cell_type": "code",
   "execution_count": 7,
   "metadata": {},
   "outputs": [],
   "source": [
    "a = np.empty([4, 4, 2])\n",
    "a[ :, :, 0] = a1 +\n",
    "a[ :, :, 1] = a2"
   ]
  },
  {
   "cell_type": "code",
   "execution_count": 10,
   "metadata": {},
   "outputs": [],
   "source": [
    "b1 = np.array( [[.1, .5, .6, .3], [.2, .4, .8, .1],[.1, .3, .7, .2], [.3, .1, .2, .1]])"
   ]
  },
  {
   "cell_type": "code",
   "execution_count": 12,
   "metadata": {},
   "outputs": [
    {
     "data": {
      "text/plain": [
       "array([[0.214, 1.072, 1.236, 0.58 ],\n",
       "       [0.334, 0.928, 2.434, 0.452],\n",
       "       [0.386, 1.93 , 2.136, 0.446],\n",
       "       [0.78 , 1.014, 0.72 , 0.206]])"
      ]
     },
     "execution_count": 12,
     "metadata": {},
     "output_type": "execute_result"
    }
   ],
   "source": [
    "a1+b1"
   ]
  },
  {
   "cell_type": "code",
   "execution_count": 13,
   "metadata": {},
   "outputs": [
    {
     "data": {
      "text/plain": [
       "array([[0.31 , 1.102, 1.258, 1.07 ],\n",
       "       [0.826, 1.98 , 3.42 , 1.092],\n",
       "       [0.844, 2.964, 2.434, 0.826],\n",
       "       [1.272, 0.898, 0.63 , 0.312]])"
      ]
     },
     "execution_count": 13,
     "metadata": {},
     "output_type": "execute_result"
    }
   ],
   "source": [
    "a2 + b1"
   ]
  },
  {
   "cell_type": "code",
   "execution_count": 31,
   "metadata": {},
   "outputs": [],
   "source": [
    "h2 = a1+a2+b1"
   ]
  },
  {
   "cell_type": "code",
   "execution_count": 32,
   "metadata": {},
   "outputs": [],
   "source": [
    "H = h2.reshape([-1])"
   ]
  },
  {
   "cell_type": "code",
   "execution_count": 33,
   "metadata": {},
   "outputs": [],
   "source": [
    "w2 = np.array([.1, .2, .3, .2, .4, .6, .7, .1, .1, .2, .5, .3, .1, .2, .6, .9])"
   ]
  },
  {
   "cell_type": "code",
   "execution_count": 36,
   "metadata": {},
   "outputs": [],
   "source": [
    "m = np.sum( w2* H ) + .3 "
   ]
  },
  {
   "cell_type": "code",
   "execution_count": 38,
   "metadata": {},
   "outputs": [],
   "source": [
    "y_hat = np.exp( m) / (1+np.exp(m))"
   ]
  },
  {
   "cell_type": "code",
   "execution_count": 39,
   "metadata": {},
   "outputs": [
    {
     "data": {
      "text/plain": [
       "-1.0000062771154894"
      ]
     },
     "execution_count": 39,
     "metadata": {},
     "output_type": "execute_result"
    }
   ],
   "source": [
    "-1/y_hat"
   ]
  },
  {
   "cell_type": "code",
   "execution_count": 40,
   "metadata": {},
   "outputs": [
    {
     "data": {
      "text/plain": [
       "array([-9.99006271e-05, -1.99801254e-04, -2.99701881e-04, -1.99801254e-04,\n",
       "       -3.99602508e-04, -5.99403763e-04, -6.99304390e-04, -9.99006271e-05,\n",
       "       -9.99006271e-05, -1.99801254e-04, -4.99503135e-04, -2.99701881e-04,\n",
       "       -9.99006271e-05, -1.99801254e-04, -5.99403763e-04, -8.99105644e-04])"
      ]
     },
     "execution_count": 40,
     "metadata": {},
     "output_type": "execute_result"
    }
   ],
   "source": [
    ".999*(1-.999)*-1/y_hat * w2"
   ]
  },
  {
   "cell_type": "code",
   "execution_count": null,
   "metadata": {},
   "outputs": [],
   "source": []
  }
 ],
 "metadata": {
  "kernelspec": {
   "display_name": "Python 3",
   "language": "python",
   "name": "python3"
  },
  "language_info": {
   "codemirror_mode": {
    "name": "ipython",
    "version": 3
   },
   "file_extension": ".py",
   "mimetype": "text/x-python",
   "name": "python",
   "nbconvert_exporter": "python",
   "pygments_lexer": "ipython3",
   "version": "3.7.4"
  }
 },
 "nbformat": 4,
 "nbformat_minor": 4
}
